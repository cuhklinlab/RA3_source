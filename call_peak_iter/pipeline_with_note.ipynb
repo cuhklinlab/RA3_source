{
 "cells": [
  {
   "cell_type": "code",
   "execution_count": 1,
   "metadata": {
    "ExecuteTime": {
     "end_time": "2020-11-09T02:22:59.591788Z",
     "start_time": "2020-11-09T02:22:54.475691Z"
    }
   },
   "outputs": [],
   "source": [
    "import numpy as np\n",
    "import time\n",
    "import scipy.io as scio\n",
    "import pandas as pd\n",
    "import h5py\n",
    "import hdf5storage\n",
    "import os\n",
    "import glob\n",
    "import pyreadr"
   ]
  },
  {
   "cell_type": "code",
   "execution_count": null,
   "metadata": {},
   "outputs": [],
   "source": []
  },
  {
   "cell_type": "code",
   "execution_count": null,
   "metadata": {},
   "outputs": [],
   "source": []
  },
  {
   "cell_type": "code",
   "execution_count": null,
   "metadata": {},
   "outputs": [],
   "source": []
  },
  {
   "cell_type": "code",
   "execution_count": null,
   "metadata": {},
   "outputs": [],
   "source": [
    "work in Dir /home/chenshengquan/program/clusterATAC/supplementary_code/data/mouse13/use_mouse13_peaks/renbing\n",
    "wget http://hgdownload.cse.ucsc.edu/goldenpath/mm9/bigZips/\n",
    "../twoBitToFa mm9.2bit mm9.fa\n",
    "use pipeline in https://github.com/r3fang/snATAC\n",
    "./bwa/bwa index mm9.fa\n",
    "./bwa/bwa mem -t 64 mm9.fa p56.rep1.R1.decomplex.fastq.gz p56.rep1.R2.decomplex.fastq.gz | ~/anaconda2/bin/samtools view -bS - > new_p56.rep1.bam\n",
    "~/anaconda2/bin/samtools sort -t 5 -@ 64 p56.rep1.bam -o p56.rep1.sort.bam\n",
    "~/anaconda2/bin/samtools rmdup -s p56.rep1.sort.bam p56.rep1.sort.dedup.bam\n",
    "~/anaconda2/bin/samtools index p56.rep1.sort.dedup.bam"
   ]
  },
  {
   "cell_type": "code",
   "execution_count": 4,
   "metadata": {
    "ExecuteTime": {
     "end_time": "2020-11-09T02:28:31.932208Z",
     "start_time": "2020-11-09T02:28:31.865896Z"
    }
   },
   "outputs": [
    {
     "data": {
      "text/plain": [
       "(2088,)"
      ]
     },
     "execution_count": 4,
     "metadata": {},
     "output_type": "execute_result"
    }
   ],
   "source": [
    "cell_labels = hdf5storage.loadmat('../REN/original/cell_labels.mat')\n",
    "cell_labels = cell_labels['cell_labels'].reshape(-1)\n",
    "cell_labels.shape"
   ]
  },
  {
   "cell_type": "code",
   "execution_count": 5,
   "metadata": {
    "ExecuteTime": {
     "end_time": "2020-11-09T02:28:32.704588Z",
     "start_time": "2020-11-09T02:28:32.674865Z"
    }
   },
   "outputs": [
    {
     "data": {
      "text/plain": [
       "(1043,)"
      ]
     },
     "execution_count": 5,
     "metadata": {},
     "output_type": "execute_result"
    }
   ],
   "source": [
    "cell_idx_sc = hdf5storage.loadmat('../REN/original/agg0.50_selectedSc.mat')\n",
    "cell_idx_sc = cell_idx_sc['cell_idx_sc'].reshape(-1)\n",
    "cell_idx_sc.shape"
   ]
  },
  {
   "cell_type": "code",
   "execution_count": 6,
   "metadata": {
    "ExecuteTime": {
     "end_time": "2020-11-09T02:28:35.059869Z",
     "start_time": "2020-11-09T02:28:35.047909Z"
    }
   },
   "outputs": [
    {
     "data": {
      "text/plain": [
       "(1043,)"
      ]
     },
     "execution_count": 6,
     "metadata": {},
     "output_type": "execute_result"
    }
   ],
   "source": [
    "label_mat = hdf5storage.loadmat('../REN/original/agg0.50_cell_label.mat')['half_cell_label'].reshape(-1)\n",
    "label_mat.shape\n",
    "# same as cell_label in agg0.50.mat"
   ]
  },
  {
   "cell_type": "code",
   "execution_count": 7,
   "metadata": {
    "ExecuteTime": {
     "end_time": "2020-11-09T02:28:37.554771Z",
     "start_time": "2020-11-09T02:28:37.547495Z"
    }
   },
   "outputs": [
    {
     "data": {
      "text/plain": [
       "1043"
      ]
     },
     "execution_count": 7,
     "metadata": {},
     "output_type": "execute_result"
    }
   ],
   "source": [
    "np.sum(cell_labels[cell_idx_sc-1] == label_mat)"
   ]
  },
  {
   "cell_type": "code",
   "execution_count": 8,
   "metadata": {
    "ExecuteTime": {
     "end_time": "2020-11-09T02:28:39.838237Z",
     "start_time": "2020-11-09T02:28:39.786304Z"
    }
   },
   "outputs": [
    {
     "data": {
      "text/plain": [
       "(2088,)"
      ]
     },
     "execution_count": 8,
     "metadata": {},
     "output_type": "execute_result"
    }
   ],
   "source": [
    "cell_barcodes = scio.loadmat('../REN/original/cell_barcodes.mat')['cell_barcodes'].reshape(-1)\n",
    "cell_barcodes.shape"
   ]
  },
  {
   "cell_type": "code",
   "execution_count": 9,
   "metadata": {
    "ExecuteTime": {
     "end_time": "2020-11-09T02:28:42.423285Z",
     "start_time": "2020-11-09T02:28:42.412921Z"
    }
   },
   "outputs": [],
   "source": [
    "cell_barcodes = np.array([i[0] for i in cell_barcodes])"
   ]
  },
  {
   "cell_type": "code",
   "execution_count": 10,
   "metadata": {
    "ExecuteTime": {
     "end_time": "2020-11-09T02:28:43.071141Z",
     "start_time": "2020-11-09T02:28:43.064516Z"
    }
   },
   "outputs": [
    {
     "name": "stdout",
     "output_type": "stream",
     "text": [
      "(1043,) (1043,)\n"
     ]
    }
   ],
   "source": [
    "half_sc_label = cell_labels[cell_idx_sc-1]\n",
    "half_sc_barcode = cell_barcodes[cell_idx_sc-1]\n",
    "print(half_sc_label.shape, half_sc_barcode.shape)"
   ]
  },
  {
   "cell_type": "code",
   "execution_count": 11,
   "metadata": {
    "ExecuteTime": {
     "end_time": "2020-11-09T02:28:43.977263Z",
     "start_time": "2020-11-09T02:28:43.968763Z"
    }
   },
   "outputs": [
    {
     "name": "stdout",
     "output_type": "stream",
     "text": [
      "(1045,) (1045,)\n"
     ]
    }
   ],
   "source": [
    "cell_idx_bulk = np.setdiff1d(np.array(range(2088)), cell_idx_sc-1)\n",
    "half_bulk_label = cell_labels[cell_idx_bulk]\n",
    "half_bulk_barcode = cell_barcodes[cell_idx_bulk]\n",
    "print(half_bulk_label.shape, half_bulk_barcode.shape)"
   ]
  },
  {
   "cell_type": "code",
   "execution_count": 12,
   "metadata": {
    "ExecuteTime": {
     "end_time": "2020-11-09T02:28:52.321027Z",
     "start_time": "2020-11-09T02:28:52.313043Z"
    }
   },
   "outputs": [],
   "source": [
    "half_sc_label = np.array([i.strip() for i in half_sc_label])\n",
    "half_bulk_label = np.array([i.strip() for i in half_bulk_label])"
   ]
  },
  {
   "cell_type": "code",
   "execution_count": 435,
   "metadata": {
    "ExecuteTime": {
     "end_time": "2020-11-07T14:14:00.156379Z",
     "start_time": "2020-11-07T14:14:00.149759Z"
    }
   },
   "outputs": [],
   "source": [
    "fout = open('../R1_data_raw/half_sc_meta.txt','w')\n",
    "for i in range(half_sc_label.shape[0]):\n",
    "    fout.write('%s\\t%s\\n'%(half_sc_barcode[i].split('_')[1],half_sc_label[i]))\n",
    "fout.close()"
   ]
  },
  {
   "cell_type": "code",
   "execution_count": 436,
   "metadata": {
    "ExecuteTime": {
     "end_time": "2020-11-07T14:14:27.997275Z",
     "start_time": "2020-11-07T14:14:27.990097Z"
    }
   },
   "outputs": [],
   "source": [
    "fout = open('../R1_data_raw/half_bulk_meta.txt','w')\n",
    "for i in range(half_bulk_label.shape[0]):\n",
    "    fout.write('%s\\t%s\\n'%(half_bulk_barcode[i].split('_')[1],half_bulk_label[i]))\n",
    "fout.close()"
   ]
  },
  {
   "cell_type": "code",
   "execution_count": null,
   "metadata": {},
   "outputs": [],
   "source": []
  },
  {
   "cell_type": "markdown",
   "metadata": {},
   "source": [
    "## select barcode"
   ]
  },
  {
   "cell_type": "code",
   "execution_count": 14,
   "metadata": {
    "ExecuteTime": {
     "end_time": "2020-11-09T04:55:58.488124Z",
     "start_time": "2020-11-09T04:55:58.025200Z"
    }
   },
   "outputs": [],
   "source": [
    "for method_name in ['RA3','scABC','SCALE','Scasat','SnapATAC','cisTopic','Cusanovich2018']:\n",
    "    fout_bash = open('../R1_data_raw/script/%s.sh'%(method_name),'w')\n",
    "    for exc_peak_num in [500]:\n",
    "        if method_name == 'RA3':\n",
    "            suffix = '_Bulkforebrain_LOMgOc'\n",
    "            dim = '5'\n",
    "        else:\n",
    "            suffix = ''\n",
    "            dim = '10'\n",
    "        if method_name == 'scABC':\n",
    "            dim = '999'\n",
    "        expr_name = '%s_forebrain_half_peak300_LOspePeakMgOc_top%d_peak000_dim%s%s'%(method_name,exc_peak_num,dim,suffix)\n",
    "        cluster_res = pd.read_csv('../R1_data_raw/clusters/%s_clusters.tsv'%expr_name,sep='\\t',index_col=0)\n",
    "        if method_name != 'scABC' and np.sum(cluster_res['label'].values == half_sc_label) != half_sc_label.shape[0]:\n",
    "            print('LABEL ERROR: %s'%expr_name)\n",
    "        try:\n",
    "            cluster_label = cluster_res['louvain'].values\n",
    "        except:\n",
    "            cluster_label = cluster_res['scABC'].values\n",
    "        \n",
    "        for idx, cluster in enumerate(np.unique(cluster_label)):\n",
    "            fout = open('../R1_data_raw/clusters/%s_cluster%d.txt'%(expr_name, idx),'w')\n",
    "            c_barcode = half_sc_barcode[cluster_label == cluster]\n",
    "            c_label = half_sc_label[cluster_label == cluster]\n",
    "            for i in range(c_barcode.shape[0]):\n",
    "                fout.write('%s\\n'%(c_barcode[i].split('_')[1]))\n",
    "#                 fout.write('%s\\t%s\\n'%(c_barcode[i].split('_')[1], c_label[i]))\n",
    "            fout.close()\n",
    "            fout_bash.write('~/anaconda2/bin/samtools view -@ 64 ~/program/clusterATAC/supplementary_code/data/mouse13/use_mouse13_peaks/renbing/p56.rep1rep2.sort.dedup.bam | LC_ALL=C grep -F -f ../clusters/%s_cluster%d.txt > ../cluster_bam/%s_cluster%d.body.sam\\n'%(expr_name, idx, expr_name, idx))\n",
    "            fout_bash.write('cat ~/program/clusterATAC/supplementary_code/data/mouse13/use_mouse13_peaks/renbing/p56.rep1rep2.sort.dedup.head ../cluster_bam/%s_cluster%d.body.sam > ../cluster_bam/%s_cluster%d.sam\\n'%(expr_name, idx, expr_name, idx))\n",
    "            fout_bash.write('~/anaconda2/bin/samtools view -b -@ 64 ../cluster_bam/%s_cluster%d.sam > ../cluster_bam/%s_cluster%d.bam\\n'%(expr_name, idx, expr_name, idx))\n",
    "            fout_bash.write('rm -f ../cluster_bam/%s_cluster%d.sam\\n'%(expr_name, idx))\n",
    "            fout_bash.write('~/anaconda2/bin/samtools index ../cluster_bam/%s_cluster%d.bam\\n'%(expr_name, idx))\n",
    "\n",
    "    fout_bash.close()"
   ]
  },
  {
   "cell_type": "code",
   "execution_count": null,
   "metadata": {},
   "outputs": [],
   "source": []
  },
  {
   "cell_type": "code",
   "execution_count": null,
   "metadata": {},
   "outputs": [],
   "source": []
  },
  {
   "cell_type": "markdown",
   "metadata": {},
   "source": [
    "## filter bam file"
   ]
  },
  {
   "cell_type": "code",
   "execution_count": null,
   "metadata": {},
   "outputs": [],
   "source": [
    "work in Dir /home/chenshengquan/program/clusterATAC/supplementary_code/data/mouse13/use_mouse13_peaks/renbing\n",
    "# Save the header lines\n",
    "~/anaconda2/bin/samtools view -H p56.rep1rep2.sort.dedup.bam > p56.rep1rep2.sort.dedup.head\n",
    "exec scripts in ../R1_data_raw/script"
   ]
  },
  {
   "cell_type": "code",
   "execution_count": null,
   "metadata": {},
   "outputs": [],
   "source": []
  },
  {
   "cell_type": "code",
   "execution_count": null,
   "metadata": {},
   "outputs": [],
   "source": []
  },
  {
   "cell_type": "markdown",
   "metadata": {},
   "source": [
    "## call peak"
   ]
  },
  {
   "cell_type": "code",
   "execution_count": null,
   "metadata": {},
   "outputs": [],
   "source": [
    "work in /home/chenshengquan/program/clusterATAC/supplementary_code/data/R1_data_raw/script"
   ]
  },
  {
   "cell_type": "code",
   "execution_count": 18,
   "metadata": {
    "ExecuteTime": {
     "end_time": "2020-11-09T10:33:57.232964Z",
     "start_time": "2020-11-09T10:33:57.212525Z"
    }
   },
   "outputs": [],
   "source": [
    "for method_name in ['RA3','scABC','SCALE','Scasat','SnapATAC','cisTopic','Cusanovich2018']:\n",
    "    fout_bash = open('../R1_data_raw/script/%s_callPeak.sh'%(method_name),'w')\n",
    "    for exc_peak_num in [500]:\n",
    "        if method_name == 'RA3':\n",
    "            suffix = '_Bulkforebrain_LOMgOc'\n",
    "            dim = '5'\n",
    "        else:\n",
    "            suffix = ''\n",
    "            dim = '10'\n",
    "        if method_name == 'scABC':\n",
    "            dim = '999'\n",
    "        expr_name = '%s_forebrain_half_peak300_LOspePeakMgOc_top%d_peak000_dim%s%s'%(method_name,exc_peak_num,dim,suffix)\n",
    "        \n",
    "        fout_bash.write('cd ../cluster_bam/\\n')\n",
    "        for idx in range(np.unique(cluster_label).shape[0]):\n",
    "#             env: ~/anaconda2/bin\n",
    "            fout_bash.write('~/program/clusterATAC/supplementary_code/data/mouse13/snATAC/bin/snATAC_pre -t 64 -m 30 -f 2000 -e 75 -i %s_cluster%d.bam -o ../peaks/%s_cluster%d.bed.gz 2> ../peaks/%s_cluster%d.pre.log\\n'%(expr_name, idx, expr_name, idx, expr_name, idx))\n",
    "#             ~/anaconda3/bin/macs2\n",
    "            fout_bash.write('macs2 callpeak -t ../peaks/%s_cluster%d.bed.gz -f BED -n ../peaks/%s_cluster%d --outdir ../peaks/ -g mm -p 0.05 --nomodel --shift 150 --keep-dup all\\n'%(expr_name, idx, expr_name, idx))\n",
    "fout_bash.close()"
   ]
  },
  {
   "cell_type": "code",
   "execution_count": null,
   "metadata": {},
   "outputs": [],
   "source": []
  },
  {
   "cell_type": "code",
   "execution_count": null,
   "metadata": {},
   "outputs": [],
   "source": [
    "# ~/anaconda3/envs/R40/bin/R\n",
    "library(Rsubread)\n",
    "library(GenomicRanges)\n",
    "for (method_name in c('RA3','scABC','SCALE','Scasat','SnapATAC','cisTopic','Cusanovich2018')){\n",
    "    for (exc_peak_num in c(500)){\n",
    "        if (method_name == 'RA3'){\n",
    "            suffix = '_Bulkforebrain_LOMgOc'\n",
    "            dim = '5'\n",
    "        }\n",
    "        else{\n",
    "            suffix = ''\n",
    "            dim = '10'\n",
    "        }\n",
    "        if (method_name == 'scABC'){\n",
    "            dim = '999'\n",
    "        }\n",
    "        expr_name = sprintf('%s_forebrain_half_peak300_LOspePeakMgOc_top%d_peak000_dim%s%s',method_name,exc_peak_num,dim,suffix)\n",
    "        \n",
    "        for (idx in c(0,1,2,3,4,5,6,7)){\n",
    "            print(sprintf(\"../peaks/%s_cluster%d_peaks.narrowPeak\",expr_name,idx))\n",
    "            peaks.df <- read.table(sprintf(\"../peaks/%s_cluster%d_peaks.narrowPeak\",expr_name,idx))\n",
    "            # remove top 5% peaks\n",
    "            cutoff <- quantile((peaks.df$V5), probs = 0.95)\n",
    "            peaks.df <- peaks.df[which(peaks.df$V5 < cutoff),]\n",
    "            # proms.df <- read.table(\"mm10/mm10.refSeq_promoter.bed\")\n",
    "            proms.df <- promoterRegions(annotation=\"mm9\")\n",
    "            peaks.gr <- GRanges(peaks.df[,1], IRanges(peaks.df[,2], peaks.df[,3]))\n",
    "            proms.gr <- GRanges(proms.df[,2], IRanges(proms.df[,3], proms.df[,3]))\n",
    "\n",
    "            peaks.sel.gr <- peaks.gr[-queryHits(findOverlaps(peaks.gr, proms.gr))]\n",
    "            peaks.sel.ex.gr <- resize(reduce(resize(peaks.sel.gr, 1000, \n",
    "                                      fix=\"center\")), 1000, fix=\"center\")\n",
    "\n",
    "            peaks.sel.ex.df <- as.data.frame(peaks.sel.ex.gr)[,1:3]\n",
    "            peaks.sel.ex.df <- peaks.sel.ex.df[which(peaks.sel.ex.df$start > 0),]\n",
    "            peaks.sel.ex.df <- peaks.sel.ex.df[which(peaks.sel.ex.df$end > 0),]\n",
    "            write.table(peaks.sel.ex.df, file = sprintf(\"../peaks/%s_cluster%d_peaks.filtered.bed\",expr_name,idx), \n",
    "                        append = FALSE, quote = FALSE, sep = \"\\t\", \n",
    "                        eol = \"\\n\", na = \"NA\", dec = \".\", \n",
    "                        row.names = FALSE, col.names = FALSE, \n",
    "                        qmethod = c(\"escape\", \"double\"),\n",
    "                        fileEncoding = \"\")\n",
    "        }\n",
    "    }\n",
    "}"
   ]
  },
  {
   "cell_type": "code",
   "execution_count": null,
   "metadata": {},
   "outputs": [],
   "source": []
  },
  {
   "cell_type": "markdown",
   "metadata": {},
   "source": [
    "## merge peak"
   ]
  },
  {
   "cell_type": "code",
   "execution_count": 433,
   "metadata": {
    "ExecuteTime": {
     "end_time": "2020-11-07T13:53:18.056062Z",
     "start_time": "2020-11-07T13:53:18.044481Z"
    }
   },
   "outputs": [],
   "source": [
    "fout_bash = open('../R1_data_raw/script/mergePeak.sh','w')\n",
    "\n",
    "for method_name in ['RA3','scABC','SCALE','Scasat','SnapATAC','cisTopic','Cusanovich2018']:\n",
    "    for exc_peak_num in [500]:\n",
    "        if method_name == 'RA3':\n",
    "            suffix = '_Bulkforebrain_LOMgOc'\n",
    "            dim = '5'\n",
    "        else:\n",
    "            suffix = ''\n",
    "            dim = '10'\n",
    "        if method_name == 'scABC':\n",
    "            dim = '999'\n",
    "        expr_name = '%s_forebrain_half_peak300_LOspePeakMgOc_top%d_peak000_dim%s%s'%(method_name,exc_peak_num,dim,suffix)\n",
    "        \n",
    "        fout_bash.write('cat ../peaks/%s_cluster?_peaks.filtered.bed > ../peaks/%s_allcluster_peaks.filtered.bed\\n'%(expr_name,expr_name))\n",
    "        fout_bash.write('sortBed -i ../peaks/%s_allcluster_peaks.filtered.bed > ../peaks/%s_allcluster_peaks.filtered.sorted.bed\\n'%(expr_name,expr_name))\n",
    "        fout_bash.write('bedtools merge -i ../peaks/%s_allcluster_peaks.filtered.sorted.bed > ../peaks/%s_allcluster_peaks.filtered.sorted.merged.bed\\n'%(expr_name,expr_name))\n",
    "\n",
    "fout_bash.close()"
   ]
  },
  {
   "cell_type": "markdown",
   "metadata": {},
   "source": [
    "## count mtx"
   ]
  },
  {
   "cell_type": "code",
   "execution_count": 22,
   "metadata": {
    "ExecuteTime": {
     "end_time": "2020-11-09T12:14:33.363243Z",
     "start_time": "2020-11-09T12:14:33.350969Z"
    }
   },
   "outputs": [],
   "source": [
    "fout_bash = open('../R1_data_raw/script/countMtx.sh','w')\n",
    "# sc_atac_window_counter False\n",
    "for method_name in ['scABC','SCALE','Scasat','SnapATAC','cisTopic','Cusanovich2018']:\n",
    "    for exc_peak_num in [500]:\n",
    "        if method_name == 'RA3':\n",
    "            suffix = '_Bulkforebrain_LOMgOc'\n",
    "            dim = '5'\n",
    "        else:\n",
    "            suffix = ''\n",
    "            dim = '10'\n",
    "        if method_name == 'scABC':\n",
    "            dim = '999'\n",
    "        expr_name = '%s_forebrain_half_peak300_LOspePeakMgOc_top%d_peak000_dim%s%s'%(method_name,exc_peak_num,dim,suffix)\n",
    "        fout_bash.write('~/anaconda2/bin/python ~/program/clusterATAC/supplementary_code/sc_atac_window_counter.py ~/program/clusterATAC/supplementary_code/data/mouse13/use_mouse13_peaks/renbing/p56.rep1rep2.sort.dedup.bam ../half_sc_meta.txt ../peaks/%s_allcluster_peaks.filtered.sorted.merged.bed ../mtx/%s.mat.txt False &\\n'%(expr_name,expr_name))\n",
    "\n",
    "fout_bash.close()"
   ]
  },
  {
   "cell_type": "code",
   "execution_count": 3,
   "metadata": {
    "ExecuteTime": {
     "end_time": "2020-11-26T16:35:41.655071Z",
     "start_time": "2020-11-26T16:35:41.651758Z"
    }
   },
   "outputs": [],
   "source": [
    "# sc_atac_window_counter True\n",
    "for method_name in ['RA3']:\n",
    "    for exc_peak_num in [500]:\n",
    "        if method_name == 'RA3':\n",
    "            suffix = '_Bulkforebrain_LOMgOc'\n",
    "            dim = '5'\n",
    "        else:\n",
    "            suffix = ''\n",
    "            dim = '10'\n",
    "        if method_name == 'scABC':\n",
    "            dim = '999'\n",
    "        expr_name = '%s_forebrain_half_peak300_LOspePeakMgOc_top%d_peak000_dim%s%s'%(method_name,exc_peak_num,dim,suffix)\n",
    "        print('~/anaconda2/bin/python ~/program/clusterATAC/supplementary_code/sc_atac_window_counter.py ~/program/clusterATAC/supplementary_code/data/mouse13/use_mouse13_peaks/renbing/p56.rep1rep2.sort.dedup.bam ../half_sc_meta.txt ../peaks/%s_allcluster_peaks.filtered.sorted.merged.bed ../mtx/%s.mat.txt True &\\n'%(expr_name,expr_name))\n",
    "        print('~/anaconda2/bin/python ~/program/clusterATAC/supplementary_code/sc_atac_window_counter.py ~/program/clusterATAC/supplementary_code/data/mouse13/use_mouse13_peaks/renbing/p56.rep1rep2.sort.dedup.bam ../half_bulk_meta.txt ../peaks/%s_allcluster_peaks.filtered.sorted.merged.bed ../mtx/%s.bulk.mat.txt True &\\n'%(expr_name,expr_name))\n"
   ]
  },
  {
   "cell_type": "markdown",
   "metadata": {},
   "source": [
    "## save mat"
   ]
  },
  {
   "cell_type": "code",
   "execution_count": null,
   "metadata": {},
   "outputs": [],
   "source": []
  },
  {
   "cell_type": "code",
   "execution_count": 1,
   "metadata": {
    "ExecuteTime": {
     "end_time": "2020-11-26T16:32:47.006960Z",
     "start_time": "2020-11-26T16:32:47.002593Z"
    }
   },
   "outputs": [],
   "source": [
    "for method_name in ['RA3','scABC','SCALE','Scasat','SnapATAC','cisTopic','Cusanovich2018']:\n",
    "    for exc_peak_num in [500]:\n",
    "        if method_name == 'RA3':\n",
    "            suffix = '_Bulkforebrain_LOMgOc'\n",
    "            dim = '5'\n",
    "        else:\n",
    "            suffix = ''\n",
    "            dim = '10'\n",
    "        if method_name == 'scABC':\n",
    "            dim = '999'\n",
    "            \n",
    "        expr_name = '%s_forebrain_half_peak300_LOspePeakMgOc_top%d_peak000_dim%s%s'%(method_name,exc_peak_num,dim,suffix)\n",
    "        ren_df = pd.read_csv('../R1_data_raw/mtx/%s.mat.txt'%expr_name, sep='\\t')\n",
    "        ren_peaks = ren_df.iloc[:,:3].values\n",
    "        ren_count = ren_df.iloc[:,4:].values\n",
    "        ren_label = half_sc_label\n",
    "\n",
    "        filter_peak = np.sum(ren_count >= 1, axis=1) >= round(ren_count.shape[1]*0.03)\n",
    "\n",
    "        file_name = '%s_forebrain_half_peak300_LOspePeakMgOc_top%d_peak000_dim%s'%(method_name,exc_peak_num,dim)\n",
    "        hdf5storage.savemat('../R1_data/%s.mat'%(file_name), {'count_mat':ren_count, 'label_mat':ren_label.reshape(-1,1)})\n",
    "\n",
    "        fout = open('../R1_data/%s.txt'%(file_name),'w')\n",
    "        for item in ren_peaks:\n",
    "            fout.write('_'.join([item[0],str(item[1]),str(item[2])])+'\\n')\n",
    "        fout.close()"
   ]
  },
  {
   "cell_type": "code",
   "execution_count": 2,
   "metadata": {
    "ExecuteTime": {
     "end_time": "2020-11-26T16:34:00.116836Z",
     "start_time": "2020-11-26T16:34:00.114364Z"
    }
   },
   "outputs": [],
   "source": [
    "for exc_peak_num in [500]:\n",
    "    method_name = 'RA3'\n",
    "    suffix = '_Bulkforebrain_LOMgOc'\n",
    "    dim = '5'\n",
    "\n",
    "    expr_name = '%s_forebrain_half_peak300_LOspePeakMgOc_top%d_peak000_dim%s%s'%(method_name,exc_peak_num,dim,suffix)\n",
    "    ren_df = pd.read_csv('../R1_data_raw/mtx/%s.bulk.mat.txt'%expr_name, sep='\\t')\n",
    "    ren_peaks = ren_df.iloc[:,:3].values\n",
    "    ren_count = ren_df.iloc[:,4:].values\n",
    "    ren_label = half_bulk_label\n",
    "    filter_peak = np.sum(ren_count >= 1, axis=1) >= round(ren_count.shape[1]*0.03)\n",
    "    \n",
    "    selected_bulk_mat = ren_count\n",
    "    selected_bulk_label = ren_label.reshape(-1,1)\n",
    "    bulk_from_sc = np.zeros((selected_bulk_mat.shape[0],np.unique(selected_bulk_label).shape[0]))\n",
    "    for i, celltype in enumerate(np.unique(selected_bulk_label)):\n",
    "        bulk_from_sc[:,i] = np.mean(selected_bulk_mat[:,selected_bulk_label[:,0]==celltype], axis=1)\n",
    "    \n",
    "    file_name = '%s_forebrain_half_peak300_LOspePeakMgOc_top%d_peak000_dim%s'%(method_name,exc_peak_num,dim)\n",
    "    hdf5storage.savemat('../R1_data/%s_bulk_mat.mat'%file_name, {'bulk_mat': bulk_from_sc})\n"
   ]
  },
  {
   "cell_type": "code",
   "execution_count": null,
   "metadata": {},
   "outputs": [],
   "source": []
  }
 ],
 "metadata": {
  "kernelspec": {
   "display_name": "Python 3",
   "language": "python",
   "name": "python3"
  },
  "language_info": {
   "codemirror_mode": {
    "name": "ipython",
    "version": 3
   },
   "file_extension": ".py",
   "mimetype": "text/x-python",
   "name": "python",
   "nbconvert_exporter": "python",
   "pygments_lexer": "ipython3",
   "version": "3.7.1"
  },
  "toc": {
   "base_numbering": 1,
   "nav_menu": {},
   "number_sections": true,
   "sideBar": true,
   "skip_h1_title": false,
   "title_cell": "Table of Contents",
   "title_sidebar": "Contents",
   "toc_cell": false,
   "toc_position": {
    "height": "calc(100% - 180px)",
    "left": "10px",
    "top": "150px",
    "width": "223px"
   },
   "toc_section_display": true,
   "toc_window_display": true
  }
 },
 "nbformat": 4,
 "nbformat_minor": 2
}
